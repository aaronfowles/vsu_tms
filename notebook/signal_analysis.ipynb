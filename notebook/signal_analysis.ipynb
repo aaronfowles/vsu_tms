{
 "cells": [
  {
   "cell_type": "code",
   "execution_count": 13,
   "metadata": {
    "collapsed": true
   },
   "outputs": [],
   "source": [
    "from os import listdir, getcwd\n",
    "from os.path import isfile, join\n",
    "import scipy.io.wavfile\n",
    "from matplotlib import pyplot as plt"
   ]
  },
  {
   "cell_type": "code",
   "execution_count": 15,
   "metadata": {
    "collapsed": false
   },
   "outputs": [],
   "source": [
    "audio_dir = join(getcwd(),'..','vsu_tms_site','doppler_audio_samples')\n",
    "training_wav_filenames = [f for f in listdir(audio_dir) if isfile(join(audio_dir,f)) and str(f)[-3:] not in 'txt']\n",
    "training_wav_files = []\n",
    "\n",
    "for f in training_wav_filenames:\n",
    "    rate, wf = scipy.io.wavfile.read(join(audio_dir,f))\n",
    "    training_wav_files.append(wf)\n",
    "plt.plot(training_wav_files[1])\n",
    "plt.show()"
   ]
  }
 ],
 "metadata": {
  "kernelspec": {
   "display_name": "Python 2",
   "language": "python",
   "name": "python2"
  },
  "language_info": {
   "codemirror_mode": {
    "name": "ipython",
    "version": 2
   },
   "file_extension": ".py",
   "mimetype": "text/x-python",
   "name": "python",
   "nbconvert_exporter": "python",
   "pygments_lexer": "ipython2",
   "version": "2.7.11"
  }
 },
 "nbformat": 4,
 "nbformat_minor": 0
}
